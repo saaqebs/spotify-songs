{
 "cells": [
  {
   "cell_type": "code",
   "execution_count": null,
   "metadata": {},
   "outputs": [],
   "source": [
    "import numpy as np\n",
    "import pandas as pd\n",
    "import matplotlib.pyplot as plt\n",
    "import random\n",
    "import statsmodels.api as sm\n",
    "from sklearn.model_selection import train_test_split, cross_val_score\n",
    "from sklearn import datasets\n",
    "from sklearn import metrics\n",
    "from sklearn.linear_model import LinearRegression\n",
    "from sklearn.feature_selection import SelectFromModel\n",
    "from sklearn.linear_model import LassoCV"
   ]
  },
  {
   "cell_type": "markdown",
   "metadata": {},
   "source": [
    "## Preliminary Analysis"
   ]
  },
  {
   "cell_type": "code",
   "execution_count": null,
   "metadata": {},
   "outputs": [],
   "source": [
    "spotifydf = pd.read_csv('spotify.csv')"
   ]
  },
  {
   "cell_type": "code",
   "execution_count": null,
   "metadata": {},
   "outputs": [],
   "source": [
    "print(len(spotifydf))\n",
    "#169909 rows before drop\n",
    "print(len(spotifydf.columns))\n",
    "#19 columns before drop\n",
    "\n",
    "spotifydf.dropna(axis=0)\n",
    "print(len(spotifydf))\n",
    "#same number of rows!\n",
    "spotifydf.head()"
   ]
  },
  {
   "cell_type": "code",
   "execution_count": null,
   "metadata": {},
   "outputs": [],
   "source": [
    "#dropping the spotify id and release data column\n",
    "spotifydf = spotifydf.drop(['id','release_date'],axis=1)\n",
    "spotifydf.to_csv('spotifydf.csv')"
   ]
  },
  {
   "cell_type": "code",
   "execution_count": null,
   "metadata": {},
   "outputs": [],
   "source": [
    "spotifydf.hist('energy')"
   ]
  },
  {
   "cell_type": "code",
   "execution_count": null,
   "metadata": {},
   "outputs": [],
   "source": [
    "spotifydf.hist('danceability')"
   ]
  },
  {
   "cell_type": "code",
   "execution_count": null,
   "metadata": {},
   "outputs": [],
   "source": [
    "spotifydf.hist('tempo')"
   ]
  },
  {
   "cell_type": "code",
   "execution_count": null,
   "metadata": {},
   "outputs": [],
   "source": [
    "spotifydf.hist('loudness')"
   ]
  },
  {
   "cell_type": "code",
   "execution_count": null,
   "metadata": {},
   "outputs": [],
   "source": [
    "spotifydf.plot.scatter(x='year',y='tempo')"
   ]
  },
  {
   "cell_type": "code",
   "execution_count": null,
   "metadata": {},
   "outputs": [],
   "source": [
    "spotifydf.plot.scatter(x='year',y='danceability')"
   ]
  },
  {
   "cell_type": "markdown",
   "metadata": {},
   "source": [
    "## K-Nearest Neighbors"
   ]
  },
  {
   "cell_type": "code",
   "execution_count": null,
   "metadata": {},
   "outputs": [],
   "source": [
    "spotify = pd.read_csv('spotifydf.csv')\n",
    "spotify = spotify[['acousticness','duration_ms','energy','explicit','instrumentalness','liveness','loudness','mode','popularity','speechiness','valence','year']]\n",
    "spotify"
   ]
  },
  {
   "cell_type": "code",
   "execution_count": null,
   "metadata": {},
   "outputs": [],
   "source": [
    "pd.to_numeric(spotify['popularity'])\n",
    "pd.to_numeric(spotify['acousticness'])\n",
    "pd.to_numeric(spotify['duration_ms'])\n",
    "pd.to_numeric(spotify['energy'])\n",
    "pd.to_numeric(spotify['explicit'])\n",
    "pd.to_numeric(spotify['instrumentalness'])\n",
    "pd.to_numeric(spotify['liveness'])\n",
    "pd.to_numeric(spotify['loudness'])\n",
    "pd.to_numeric(spotify['mode'])\n",
    "pd.to_numeric(spotify['speechiness'])\n",
    "pd.to_numeric(spotify['valence'])\n",
    "pd.to_numeric(spotify['liveness'])\n",
    "\n",
    "\n",
    "spotify"
   ]
  },
  {
   "cell_type": "code",
   "execution_count": null,
   "metadata": {},
   "outputs": [],
   "source": [
    "df= spotify\n",
    "df.loc[df['popularity'] < 80, 'popularity'] = 0\n",
    "df.loc[df['popularity'] >= 80, 'popularity'] = 1\n",
    "df"
   ]
  },
  {
   "cell_type": "code",
   "execution_count": null,
   "metadata": {},
   "outputs": [],
   "source": [
    "y = spotify['popularity']\n",
    "X = spotify.drop('popularity',axis = 1)"
   ]
  },
  {
   "cell_type": "code",
   "execution_count": null,
   "metadata": {},
   "outputs": [],
   "source": [
    "\n",
    "X_train, X_test, y_train, y_test = train_test_split(X, y, test_size = 0.2)"
   ]
  },
  {
   "cell_type": "code",
   "execution_count": null,
   "metadata": {},
   "outputs": [],
   "source": [
    "#scaling data\n",
    "from sklearn.preprocessing import StandardScaler\n",
    "scaler = StandardScaler()\n",
    "scaler.fit(X_train)\n",
    "\n",
    "X_train = scaler.transform(X_train)\n",
    "X_test = scaler.transform(X_test)"
   ]
  },
  {
   "cell_type": "code",
   "execution_count": null,
   "metadata": {},
   "outputs": [],
   "source": [
    "#perform knn\n",
    "from sklearn.neighbors import KNeighborsClassifier\n",
    "classifier = KNeighborsClassifier(n_neighbors=5)\n",
    "classifier.fit(X_train, y_train)"
   ]
  },
  {
   "cell_type": "code",
   "execution_count": null,
   "metadata": {},
   "outputs": [],
   "source": [
    "#predict \n",
    "y_pred = classifier.predict(X_test)"
   ]
  },
  {
   "cell_type": "code",
   "execution_count": null,
   "metadata": {},
   "outputs": [],
   "source": [
    "from sklearn.metrics import classification_report, confusion_matrix\n",
    "print(confusion_matrix(y_test, y_pred))\n",
    "print(classification_report(y_test, y_pred))"
   ]
  },
  {
   "cell_type": "code",
   "execution_count": null,
   "metadata": {},
   "outputs": [],
   "source": [
    "print(\"Accuracy:\",metrics.accuracy_score(y_test, y_pred))"
   ]
  },
  {
   "cell_type": "markdown",
   "metadata": {},
   "source": [
    "## Support Vector Machine"
   ]
  },
  {
   "cell_type": "code",
   "execution_count": null,
   "metadata": {},
   "outputs": [],
   "source": [
    "from sklearn.svm import LinearSVR\n",
    "from sklearn import metrics"
   ]
  },
  {
   "cell_type": "code",
   "execution_count": null,
   "metadata": {},
   "outputs": [],
   "source": [
    "spotifydf = pd.read_csv(\"spotifydf.csv\")\n",
    "spotifydf.head()"
   ]
  },
  {
   "cell_type": "code",
   "execution_count": null,
   "metadata": {},
   "outputs": [],
   "source": [
    "popular_bool = []\n",
    "for i in range(len(spotifydf[\"popularity\"])):\n",
    "    if spotifydf[\"popularity\"][i] > 80:\n",
    "        popular_bool.append(1)\n",
    "    else:\n",
    "        popular_bool.append(0)"
   ]
  },
  {
   "cell_type": "code",
   "execution_count": null,
   "metadata": {},
   "outputs": [],
   "source": [
    "spotifydf[\"popular_bool\"] = popular_bool"
   ]
  },
  {
   "cell_type": "code",
   "execution_count": null,
   "metadata": {},
   "outputs": [],
   "source": [
    "X = spotifydf.drop([\"Unnamed: 0\",\"artists\",\"name\",\"popular_bool\"], axis = 1)\n",
    "y = spotifydf[\"popular_bool\"]\n",
    "X_train, X_test, y_train, y_test = train_test_split(X, y, test_size = .5)\n",
    "X.head()"
   ]
  },
  {
   "cell_type": "code",
   "execution_count": null,
   "metadata": {},
   "outputs": [],
   "source": [
    "svm_reg = LinearSVR(epsilon=1)\n",
    "svm_reg.fit(X_train,y_train)\n",
    "y_pred = svm_reg.predict(X_test)"
   ]
  },
  {
   "cell_type": "code",
   "execution_count": null,
   "metadata": {},
   "outputs": [],
   "source": [
    "from sklearn.metrics import classification_report, confusion_matrix\n",
    "print(confusion_matrix(y_test, y_pred))\n",
    "print(\"Accuracy:\",metrics.accuracy_score(y_test, y_pred))\n",
    "#print('Mean Squared Error:', metrics.mean_squared_error(y_test, y_pred))"
   ]
  },
  {
   "cell_type": "markdown",
   "metadata": {},
   "source": [
    "## Logistic Regression"
   ]
  },
  {
   "cell_type": "code",
   "execution_count": null,
   "metadata": {},
   "outputs": [],
   "source": [
    "import pandas as pd\n",
    "import numpy as np\n",
    "from collections import Counter\n",
    "import matplotlib.pyplot as plt\n",
    "from sklearn.metrics import accuracy_score, confusion_matrix\n",
    "from sklearn.model_selection import train_test_split, cross_val_score\n",
    "from sklearn.linear_model import LogisticRegression, LinearRegression"
   ]
  },
  {
   "cell_type": "code",
   "execution_count": null,
   "metadata": {},
   "outputs": [],
   "source": [
    "spotify = pd.read_csv('data/spotifydf.csv')\n",
    "spotify = spotify[[\n",
    "    'acousticness',\n",
    "    'danceability',\n",
    "    'duration_ms',\n",
    "    'energy',\n",
    "    'explicit',\n",
    "    'instrumentalness',\n",
    "    'key',\n",
    "    'liveness',\n",
    "    'loudness',\n",
    "    'mode',\n",
    "    'popularity',\n",
    "    'speechiness',\n",
    "    'tempo',\n",
    "    'valence',\n",
    "    'year'\n",
    "]]\n",
    "spotify.loc[spotify['popularity'] < 70, 'popularity'] = 0\n",
    "spotify.loc[spotify['popularity'] >= 70, 'popularity'] = 1\n",
    "spotify.head()"
   ]
  },
  {
   "cell_type": "code",
   "execution_count": null,
   "metadata": {},
   "outputs": [],
   "source": [
    "def spotify_logistic_regression(Xfeatures, spotify_df=spotify):\n",
    "    X = spotify_df[Xfeatures]\n",
    "    Y = spotify_df['popularity']\n",
    "    X_train, X_test, Y_train, Y_test = train_test_split(X, Y, test_size = 0.2)\n",
    "    model = LogisticRegression().fit(X_train,Y_train)\n",
    "    Y_hat = model.predict(X_test)\n",
    "    return Y_hat,Y_test"
   ]
  },
  {
   "cell_type": "code",
   "execution_count": null,
   "metadata": {},
   "outputs": [],
   "source": [
    "def logistic_regression_plot(columns, spotify_df=spotify):\n",
    "    y_hat,y_reals = spotify_logistic_regression(columns,spotify_df=spotify_df)\n",
    "    print(\"Accuracy: {}\".format(accuracy_score(y_hat,y_reals)))\n",
    "    print(confusion_matrix(y_hat,y_reals))"
   ]
  },
  {
   "cell_type": "code",
   "execution_count": null,
   "metadata": {},
   "outputs": [],
   "source": [
    "logistic_regression_plot([\n",
    "    'acousticness',\n",
    "    'danceability',\n",
    "    'duration_ms',\n",
    "    'energy',\n",
    "    'explicit',\n",
    "    'instrumentalness',\n",
    "    'key',\n",
    "    'liveness',\n",
    "    'loudness',\n",
    "    'mode',\n",
    "    'speechiness',\n",
    "    'tempo',\n",
    "    'valence',\n",
    "#     'year'\n",
    "])"
   ]
  },
  {
   "cell_type": "code",
   "execution_count": null,
   "metadata": {},
   "outputs": [],
   "source": [
    "\n",
    "logistic_regression_plot([\n",
    "    'acousticness',\n",
    "    'danceability',\n",
    "    'duration_ms',\n",
    "    'energy',\n",
    "    'explicit',\n",
    "    'instrumentalness',\n",
    "    'key',\n",
    "    'liveness',\n",
    "    'loudness',\n",
    "    'mode',\n",
    "    'speechiness',\n",
    "    'tempo',\n",
    "    'valence',\n",
    "    'year'\n",
    "], spotify_df=spotify[spotify['year'] < 1990])"
   ]
  },
  {
   "cell_type": "code",
   "execution_count": null,
   "metadata": {},
   "outputs": [],
   "source": [
    "logistic_regression_plot([\n",
    "#     'acousticness',\n",
    "    'danceability',\n",
    "#     'duration_ms',\n",
    "    'energy',\n",
    "    'explicit',\n",
    "#     'instrumentalness',\n",
    "#     'key',\n",
    "    'liveness',\n",
    "#     'loudness',\n",
    "#     'mode',\n",
    "    'speechiness',\n",
    "    'tempo',\n",
    "#     'valence',\n",
    "#     'year'\n",
    "], spotify_df=spotify[spotify['year'] > 2006])"
   ]
  }
 ],
 "metadata": {
  "kernelspec": {
   "display_name": "Python 3",
   "language": "python",
   "name": "python3"
  },
  "language_info": {
   "codemirror_mode": {
    "name": "ipython",
    "version": 3
   },
   "file_extension": ".py",
   "mimetype": "text/x-python",
   "name": "python",
   "nbconvert_exporter": "python",
   "pygments_lexer": "ipython3",
   "version": "3.6.5"
  }
 },
 "nbformat": 4,
 "nbformat_minor": 2
}
